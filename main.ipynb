{
 "cells": [
  {
   "cell_type": "code",
   "execution_count": null,
   "metadata": {
    "vscode": {
     "languageId": "plaintext"
    }
   },
   "outputs": [],
   "source": [
    "from src.dataset.module import AudioDataModule"
   ]
  },
  {
   "cell_type": "code",
   "execution_count": null,
   "metadata": {
    "vscode": {
     "languageId": "plaintext"
    }
   },
   "outputs": [],
   "source": [
    "def generate_input_sample():\n",
    "    #TODO: rewrite using cfg.data\n",
    "    data_module = AudioDataModule(cfg.data)\n",
    "    data_module.setup()\n",
    "    dataloader = data_module.train_dataloader()\n",
    "    \n",
    "    for batch in dataloader:\n",
    "        # we're getting batch from train dataloader, that returns a batch of data and labels\n",
    "        # the first element of batch (batch[0]) is a batch of data (3 dimention for audio)\n",
    "        # the second one is a batch of labels (batch[1]) -- one dimention tensor\n",
    "        # So, here to obtain a shape of input data, we have to take the batch of data batch[0]\n",
    "        # and next take the first element in this batch -- batch[0][0]\n",
    "        input_dim = batch[0][0].shape\n",
    "        break"
   ]
  },
  {
   "cell_type": "code",
   "execution_count": null,
   "metadata": {
    "vscode": {
     "languageId": "plaintext"
    }
   },
   "outputs": [],
   "source": [
    "def check_model_parameters(models, input_sample):\n",
    "    ..."
   ]
  }
 ],
 "metadata": {
  "language_info": {
   "name": "python"
  }
 },
 "nbformat": 4,
 "nbformat_minor": 2
}
