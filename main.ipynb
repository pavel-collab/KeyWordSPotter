{
 "cells": [
  {
   "cell_type": "code",
   "execution_count": 1,
   "metadata": {},
   "outputs": [],
   "source": [
    "from src.models.baselinecnn import Conv1dNet\n",
    "from src.dataset.dataset import AudioDataset\n",
    "from src.models.utils import model_map\n",
    "\n",
    "import thop\n",
    "import pandas as pd\n",
    "import seaborn as sns\n",
    "import matplotlib.pyplot as plt\n",
    "import os\n",
    "\n",
    "import warnings\n",
    "\n",
    "# turn off the UserWarnings because lots of them are talking about \n",
    "# library function refactoring, last or future deprecations\n",
    "warnings.filterwarnings('ignore', category=UserWarning)"
   ]
  },
  {
   "cell_type": "code",
   "execution_count": 2,
   "metadata": {},
   "outputs": [],
   "source": [
    "def generate_input_sample():\n",
    "    dataset = AudioDataset(\n",
    "            os.path.join(\"./data\", \"train/manifest_train.csv\"),\n",
    "            sample_rate=16000,\n",
    "            n_fft=400,\n",
    "            hop_length=256,\n",
    "            win_length=400,\n",
    "            n_mels=64\n",
    "        )\n",
    "    \n",
    "    for mel_spec, _ in dataset:\n",
    "        sample_input = mel_spec\n",
    "        break\n",
    "    sample_input = sample_input[None, :, :]\n",
    "    \n",
    "    return sample_input"
   ]
  },
  {
   "cell_type": "code",
   "execution_count": 3,
   "metadata": {},
   "outputs": [],
   "source": [
    "def check_model_parameters(model, input_sample):\n",
    "    macs, params = thop.profile(\n",
    "        # here we have to use a backbone model with classification head, not a pytorch loghtning wrapper\n",
    "        model, \n",
    "        inputs=(input_sample,),\n",
    "    )\n",
    "    return macs, params"
   ]
  },
  {
   "cell_type": "code",
   "execution_count": 4,
   "metadata": {},
   "outputs": [],
   "source": [
    "def is_model_suit(model, model_name=\"new_model\"):\n",
    "    sample_input = generate_input_sample()\n",
    "    macs, params = check_model_parameters(model, sample_input)\n",
    "    \n",
    "    is_suit = macs <= 1e6 and params <= 1e4\n",
    "    \n",
    "    print(\"=\"*20)\n",
    "    print(f\"MODEL: {model_name}\")\n",
    "    print(f\"\\tNUM PARAMETERS: {params}\")\n",
    "    print(f\"\\tNUM MACs: {macs}\")\n",
    "    print(f\"IS MODEL SUIT: {is_suit}\")\n",
    "    return is_suit"
   ]
  },
  {
   "cell_type": "code",
   "execution_count": 5,
   "metadata": {},
   "outputs": [],
   "source": [
    "def plot_label_distribution(labels, top_n=None, palette=\"Set2\"):\n",
    "    \"\"\"\n",
    "    Build a beautiful seaborn bar plot showing the distribution of labels.\n",
    "    \n",
    "    Parameters:\n",
    "        labels (list/array-like): Array of labels (e.g., strings or ints).\n",
    "        top_n (int or None): If set, show only top N most frequent labels.\n",
    "        palette (str or list): Seaborn palette name or list of colors.\n",
    "    \"\"\"\n",
    "    # Create frequency table\n",
    "    s = pd.Series(labels)\n",
    "    counts = s.value_counts()\n",
    "    if top_n is not None:\n",
    "        counts = counts.head(top_n)\n",
    "    \n",
    "    df = counts.reset_index()\n",
    "    df.columns = [\"label\", \"count\"]\n",
    "    df[\"percent\"] = df[\"count\"] / df[\"count\"].sum() * 100\n",
    "    \n",
    "    # Aesthetics\n",
    "    sns.set_theme(style=\"whitegrid\", context=\"talk\")\n",
    "    num_cats = len(df)\n",
    "    fig_w = max(6, num_cats * 0.7)\n",
    "    fig_h = 6\n",
    "    \n",
    "    # Plot\n",
    "    fig, ax = plt.subplots(figsize=(fig_w, fig_h))\n",
    "    sns.barplot(\n",
    "        data=df,\n",
    "        x=\"label\", y=\"count\",\n",
    "        palette=palette,\n",
    "        ax=ax\n",
    "    )\n",
    "    \n",
    "    # Annotate bars with counts and %s\n",
    "    for i, p in enumerate(ax.patches):\n",
    "        count = df.loc[i, \"count\"]\n",
    "        pct = df.loc[i, \"percent\"]\n",
    "        ax.annotate(\n",
    "            f\"{count} ({pct:.1f}%)\",\n",
    "            (p.get_x() + p.get_width() / 2, p.get_height()),\n",
    "            ha=\"center\", va=\"bottom\",\n",
    "            fontsize=11, color=\"#333\",\n",
    "            xytext=(0, 5), textcoords=\"offset points\"\n",
    "        )\n",
    "    \n",
    "    # Tidy up axes\n",
    "    ax.set_title(\"Распределение меток\", pad=15)\n",
    "    ax.set_xlabel(\"Метка\")\n",
    "    ax.set_ylabel(\"Количество\")\n",
    "    \n",
    "    # Rotate x labels if many categories\n",
    "    if num_cats > 8:\n",
    "        ax.set_xticklabels(ax.get_xticklabels(), rotation=30, ha=\"right\")\n",
    "    \n",
    "    # Improve layout\n",
    "    plt.tight_layout()\n",
    "    plt.show()"
   ]
  },
  {
   "cell_type": "code",
   "execution_count": 6,
   "metadata": {},
   "outputs": [],
   "source": [
    "models_params = {}\n",
    "sample_input = generate_input_sample()"
   ]
  },
  {
   "cell_type": "code",
   "execution_count": 8,
   "metadata": {},
   "outputs": [
    {
     "name": "stdout",
     "output_type": "stream",
     "text": [
      "[INFO] Register count_convNd() for <class 'torch.nn.modules.conv.Conv1d'>.\n",
      "[INFO] Register zero_ops() for <class 'torch.nn.modules.activation.ReLU'>.\n",
      "[INFO] Register zero_ops() for <class 'torch.nn.modules.pooling.MaxPool1d'>.\n",
      "[INFO] Register zero_ops() for <class 'torch.nn.modules.container.Sequential'>.\n",
      "[INFO] Register count_adap_avgpool() for <class 'torch.nn.modules.pooling.AdaptiveAvgPool1d'>.\n",
      "[INFO] Register count_linear() for <class 'torch.nn.modules.linear.Linear'>.\n",
      "[INFO] Register count_convNd() for <class 'torch.nn.modules.conv.Conv1d'>.\n",
      "[INFO] Register zero_ops() for <class 'torch.nn.modules.activation.ReLU'>.\n",
      "[INFO] Register zero_ops() for <class 'torch.nn.modules.pooling.MaxPool1d'>.\n",
      "[INFO] Register zero_ops() for <class 'torch.nn.modules.container.Sequential'>.\n",
      "[INFO] Register count_adap_avgpool() for <class 'torch.nn.modules.pooling.AdaptiveAvgPool1d'>.\n",
      "[INFO] Register count_linear() for <class 'torch.nn.modules.linear.Linear'>.\n",
      "[INFO] Register count_convNd() for <class 'torch.nn.modules.conv.Conv1d'>.\n",
      "[INFO] Register count_normalization() for <class 'torch.nn.modules.batchnorm.BatchNorm1d'>.\n",
      "[INFO] Register zero_ops() for <class 'torch.nn.modules.activation.ReLU'>.\n",
      "[INFO] Register zero_ops() for <class 'torch.nn.modules.pooling.MaxPool1d'>.\n",
      "[INFO] Register zero_ops() for <class 'torch.nn.modules.container.Sequential'>.\n",
      "[INFO] Register count_adap_avgpool() for <class 'torch.nn.modules.pooling.AdaptiveAvgPool1d'>.\n",
      "[INFO] Register zero_ops() for <class 'torch.nn.modules.dropout.Dropout'>.\n",
      "[INFO] Register count_linear() for <class 'torch.nn.modules.linear.Linear'>.\n",
      "[INFO] Register count_convNd() for <class 'torch.nn.modules.conv.Conv1d'>.\n",
      "[INFO] Register zero_ops() for <class 'torch.nn.modules.activation.ReLU'>.\n",
      "[INFO] Register count_normalization() for <class 'torch.nn.modules.batchnorm.BatchNorm1d'>.\n",
      "[INFO] Register zero_ops() for <class 'torch.nn.modules.pooling.MaxPool1d'>.\n",
      "[INFO] Register zero_ops() for <class 'torch.nn.modules.container.Sequential'>.\n",
      "[INFO] Register count_adap_avgpool() for <class 'torch.nn.modules.pooling.AdaptiveAvgPool1d'>.\n",
      "[INFO] Register count_linear() for <class 'torch.nn.modules.linear.Linear'>.\n",
      "[INFO] Register count_convNd() for <class 'torch.nn.modules.conv.Conv1d'>.\n",
      "[INFO] Register count_avgpool() for <class 'torch.nn.modules.pooling.AvgPool1d'>.\n",
      "[INFO] Register count_adap_avgpool() for <class 'torch.nn.modules.pooling.AdaptiveAvgPool1d'>.\n",
      "[INFO] Register count_linear() for <class 'torch.nn.modules.linear.Linear'>.\n",
      "[INFO] Register count_convNd() for <class 'torch.nn.modules.conv.Conv1d'>.\n",
      "[INFO] Register count_normalization() for <class 'torch.nn.modules.batchnorm.BatchNorm1d'>.\n",
      "[INFO] Register zero_ops() for <class 'torch.nn.modules.activation.ReLU'>.\n",
      "[INFO] Register zero_ops() for <class 'torch.nn.modules.container.Sequential'>.\n",
      "[INFO] Register count_adap_avgpool() for <class 'torch.nn.modules.pooling.AdaptiveAvgPool1d'>.\n",
      "[INFO] Register count_linear() for <class 'torch.nn.modules.linear.Linear'>.\n",
      "[INFO] Register count_convNd() for <class 'torch.nn.modules.conv.Conv1d'>.\n",
      "[INFO] Register count_normalization() for <class 'torch.nn.modules.batchnorm.BatchNorm1d'>.\n",
      "[INFO] Register zero_ops() for <class 'torch.nn.modules.activation.ReLU'>.\n",
      "[INFO] Register zero_ops() for <class 'torch.nn.modules.container.Sequential'>.\n",
      "[INFO] Register count_adap_avgpool() for <class 'torch.nn.modules.pooling.AdaptiveAvgPool1d'>.\n",
      "[INFO] Register count_linear() for <class 'torch.nn.modules.linear.Linear'>.\n"
     ]
    }
   ],
   "source": [
    "for model_name, model_class in model_map.items():\n",
    "    model = model_class(num_classes=5)\n",
    "    macs, params = check_model_parameters(model, sample_input)\n",
    "    \n",
    "    models_params[model_name] = (params, macs)"
   ]
  },
  {
   "cell_type": "code",
   "execution_count": 9,
   "metadata": {},
   "outputs": [
    {
     "name": "stdout",
     "output_type": "stream",
     "text": [
      "====================\n",
      "MODEL: MicroCNN\n",
      "\tNUM PARAMETERS: 1105.0\n",
      "\tNUM MACs: 51696.0\n",
      "IS MODEL SUIT: True\n",
      "====================\n",
      "MODEL: NanoCNN\n",
      "\tNUM PARAMETERS: 499.0\n",
      "\tNUM MACs: 25072.0\n",
      "IS MODEL SUIT: True\n",
      "====================\n",
      "MODEL: TinyCNN\n",
      "\tNUM PARAMETERS: 2701.0\n",
      "\tNUM MACs: 113600.0\n",
      "IS MODEL SUIT: True\n",
      "====================\n",
      "MODEL: Conv1dNet\n",
      "\tNUM PARAMETERS: 12133.0\n",
      "\tNUM MACs: 256464.0\n",
      "IS MODEL SUIT: False\n",
      "====================\n",
      "MODEL: CustomNet\n",
      "\tNUM PARAMETERS: 9598.0\n",
      "\tNUM MACs: 453669.0\n",
      "IS MODEL SUIT: True\n",
      "====================\n",
      "MODEL: MobileNetV1_1D\n",
      "\tNUM PARAMETERS: 3187621.0\n",
      "\tNUM MACs: 10624000.0\n",
      "IS MODEL SUIT: False\n",
      "====================\n",
      "MODEL: SimpleMobileNet1D\n",
      "\tNUM PARAMETERS: 187173.0\n",
      "\tNUM MACs: 2488736.0\n",
      "IS MODEL SUIT: False\n"
     ]
    }
   ],
   "source": [
    "for model_name, model_params in models_params.items():\n",
    "    params, macs = model_params\n",
    "    print(\"=\"*20)\n",
    "    print(f\"MODEL: {model_name}\")\n",
    "    print(f\"\\tNUM PARAMETERS: {params}\")\n",
    "    print(f\"\\tNUM MACs: {macs}\")\n",
    "    print(f\"IS MODEL SUIT: {macs <= 1e6 and params <= 1e4}\")"
   ]
  },
  {
   "cell_type": "code",
   "execution_count": null,
   "metadata": {},
   "outputs": [],
   "source": [
    "df = pd.read_csv(os.path.join(\"./data\", \"train/manifest_train.csv\"))\n",
    "labels = df['label'].to_list()"
   ]
  },
  {
   "cell_type": "code",
   "execution_count": null,
   "metadata": {},
   "outputs": [],
   "source": [
    "plot_label_distribution(labels)"
   ]
  },
  {
   "cell_type": "code",
   "execution_count": null,
   "metadata": {},
   "outputs": [],
   "source": [
    "df = pd.read_csv(os.path.join(\"./data\", \"train/manifest_val.csv\"))\n",
    "labels = df['label'].to_list()"
   ]
  },
  {
   "cell_type": "code",
   "execution_count": null,
   "metadata": {},
   "outputs": [],
   "source": [
    "plot_label_distribution(labels)"
   ]
  },
  {
   "cell_type": "code",
   "execution_count": 5,
   "metadata": {},
   "outputs": [],
   "source": [
    "from src.models.depwisecnn import SimpleMobileNet1D"
   ]
  },
  {
   "cell_type": "code",
   "execution_count": 6,
   "metadata": {},
   "outputs": [
    {
     "name": "stdout",
     "output_type": "stream",
     "text": [
      "[INFO] Register count_convNd() for <class 'torch.nn.modules.conv.Conv1d'>.\n",
      "[INFO] Register count_normalization() for <class 'torch.nn.modules.batchnorm.BatchNorm1d'>.\n",
      "[INFO] Register zero_ops() for <class 'torch.nn.modules.activation.ReLU'>.\n",
      "[INFO] Register zero_ops() for <class 'torch.nn.modules.container.Sequential'>.\n",
      "[INFO] Register count_adap_avgpool() for <class 'torch.nn.modules.pooling.AdaptiveAvgPool1d'>.\n",
      "[INFO] Register zero_ops() for <class 'torch.nn.modules.dropout.Dropout'>.\n",
      "[INFO] Register count_linear() for <class 'torch.nn.modules.linear.Linear'>.\n",
      "====================\n",
      "MODEL: SimpleMobileNet1D\n",
      "\tNUM PARAMETERS: 8857.0\n",
      "\tNUM MACs: 95151.0\n",
      "IS MODEL SUIT: True\n"
     ]
    },
    {
     "data": {
      "text/plain": [
       "True"
      ]
     },
     "execution_count": 6,
     "metadata": {},
     "output_type": "execute_result"
    }
   ],
   "source": [
    "is_model_suit(SimpleMobileNet1D(num_classes=5), model_name=\"SimpleMobileNet1D\")"
   ]
  },
  {
   "cell_type": "code",
   "execution_count": null,
   "metadata": {},
   "outputs": [],
   "source": [
    "from utils import check_params\n",
    "from sklearn.model_selection import ParameterGrid"
   ]
  },
  {
   "cell_type": "code",
   "execution_count": null,
   "metadata": {},
   "outputs": [],
   "source": [
    "errors = check_params(\n",
    "        sample_rate=16000,\n",
    "        n_fft=400,\n",
    "        win_length=256,\n",
    "        hop_length=256,\n",
    "        n_mels=64\n",
    "    )\n",
    "\n",
    "if len(errors) > 0:\n",
    "    for error in errors:\n",
    "        print(f\"Ошибка: {error}\")\n",
    "else:\n",
    "    print(\"Все параметры корректны!\")"
   ]
  },
  {
   "cell_type": "code",
   "execution_count": null,
   "metadata": {},
   "outputs": [],
   "source": [
    "def check_model_parameters(params: dict):\n",
    "    sample_rate = params['sample_rate']\n",
    "    n_fft = params['n_fft']\n",
    "    win_length = params['win_length']\n",
    "    hop_length = params['hop_length']\n",
    "    n_mels = params['n_mels']\n",
    "    \n",
    "    errors = check_params(\n",
    "        sample_rate,\n",
    "        n_fft,\n",
    "        win_length,\n",
    "        hop_length,\n",
    "        n_mels\n",
    "    )\n",
    "    return len(errors) == 0"
   ]
  },
  {
   "cell_type": "code",
   "execution_count": null,
   "metadata": {},
   "outputs": [],
   "source": [
    "grid = {\n",
    "    \"sample_rate\": [2000*(2**rate_pow) for rate_pow in range(0, 4)],\n",
    "    \"n_fft\": [n for n in range(200, 800+1, 200)],\n",
    "    \"hop_length\": [2**p for p in range(7, 10+1)],\n",
    "    \"win_length\": [n for n in range(200, 800+1, 200)],\n",
    "    \"n_mels\": [2**p for p in range(4, 7+1)]\n",
    "}\n",
    "\n",
    "valid_param_combinations = [p for p in ParameterGrid(grid) if check_model_parameters(p)]"
   ]
  },
  {
   "cell_type": "code",
   "execution_count": null,
   "metadata": {},
   "outputs": [],
   "source": [
    "print(f\"[DEBUG] have found {len(valid_param_combinations)}/{len(ParameterGrid(grid))} combinations correct parameter\")"
   ]
  },
  {
   "cell_type": "code",
   "execution_count": null,
   "metadata": {},
   "outputs": [],
   "source": [
    "valid_param_combinations"
   ]
  },
  {
   "cell_type": "code",
   "execution_count": null,
   "metadata": {},
   "outputs": [],
   "source": [
    "import os\n",
    "import wave\n",
    "import contextlib\n",
    "import seaborn as sns\n",
    "import matplotlib.pyplot as plt\n",
    "import pandas as pd\n",
    "from pathlib import Path"
   ]
  },
  {
   "cell_type": "code",
   "execution_count": null,
   "metadata": {},
   "outputs": [],
   "source": [
    "manifest_path = Path(\"./data/train/manifest_train.csv\")\n",
    "\n",
    "file_list = []\n",
    "manifest_df = pd.read_csv(manifest_path)\n",
    "\n",
    "file_list = manifest_df.path\n",
    "\n",
    "durations = []\n",
    "for file in file_list:\n",
    "    file_path = manifest_path.parent / Path(file)\n",
    "\n",
    "    file_path_str = str(file_path.absolute())\n",
    "    \n",
    "    with contextlib.closing(wave.open(file_path_str, 'r')) as f:\n",
    "        frames = f.getnframes()\n",
    "        rate = f.getframerate()\n",
    "        duration = frames / float(rate)\n",
    "        durations.append({\"duration\": duration})"
   ]
  },
  {
   "cell_type": "code",
   "execution_count": null,
   "metadata": {},
   "outputs": [],
   "source": [
    "# В DataFrame для удобства\n",
    "df = pd.DataFrame(durations)\n",
    "\n",
    "# Столбчатая диаграмма распределения\n",
    "plt.figure(figsize=(10, 6))\n",
    "sns.histplot(df[\"duration\"], bins=20, kde=False)\n",
    "plt.xlabel(\"Длительность (секунды)\")\n",
    "plt.ylabel(\"Количество файлов\")\n",
    "plt.title(\"Распределение длительности WAV файлов\")\n",
    "plt.show()"
   ]
  }
 ],
 "metadata": {
  "kernelspec": {
   "display_name": "Python 3 (ipykernel)",
   "language": "python",
   "name": "python3"
  },
  "language_info": {
   "codemirror_mode": {
    "name": "ipython",
    "version": 3
   },
   "file_extension": ".py",
   "mimetype": "text/x-python",
   "name": "python",
   "nbconvert_exporter": "python",
   "pygments_lexer": "ipython3",
   "version": "3.13.0"
  }
 },
 "nbformat": 4,
 "nbformat_minor": 4
}
